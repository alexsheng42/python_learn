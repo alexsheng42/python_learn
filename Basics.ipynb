{
 "cells": [
  {
   "cell_type": "code",
   "execution_count": 16,
   "metadata": {
    "collapsed": false
   },
   "outputs": [
    {
     "name": "stdout",
     "output_type": "stream",
     "text": [
      "[['', 'year', 'month', 'intent', 'police', 'sex', 'age', 'race', 'hispanic', 'place', 'education'], ['1', '2012', '01', 'Suicide', '0', 'M', '34', 'Asian/Pacific Islander', '100', 'Home', '4'], ['2', '2012', '01', 'Suicide', '0', 'F', '21', 'White', '100', 'Street', '3'], ['3', '2012', '01', 'Suicide', '0', 'M', '60', 'White', '100', 'Other specified', '4'], ['4', '2012', '02', 'Suicide', '0', 'M', '64', 'White', '100', 'Home', '4']]\n"
     ]
    }
   ],
   "source": [
    "import csv\n",
    "\n",
    "data = list(csv.reader(open(\"guns.csv\",\"r\")))\n",
    "print(data[:5])"
   ]
  },
  {
   "cell_type": "code",
   "execution_count": 17,
   "metadata": {
    "collapsed": true
   },
   "outputs": [],
   "source": [
    "headers = data[0]\n",
    "data = data[1:]"
   ]
  },
  {
   "cell_type": "code",
   "execution_count": 18,
   "metadata": {
    "collapsed": false
   },
   "outputs": [
    {
     "name": "stdout",
     "output_type": "stream",
     "text": [
      "['', 'year', 'month', 'intent', 'police', 'sex', 'age', 'race', 'hispanic', 'place', 'education']\n",
      "[['1', '2012', '01', 'Suicide', '0', 'M', '34', 'Asian/Pacific Islander', '100', 'Home', '4'], ['2', '2012', '01', 'Suicide', '0', 'F', '21', 'White', '100', 'Street', '3'], ['3', '2012', '01', 'Suicide', '0', 'M', '60', 'White', '100', 'Other specified', '4'], ['4', '2012', '02', 'Suicide', '0', 'M', '64', 'White', '100', 'Home', '4'], ['5', '2012', '02', 'Suicide', '0', 'M', '31', 'White', '100', 'Other specified', '2']]\n"
     ]
    }
   ],
   "source": [
    "print(headers)\n",
    "print(data[:5])"
   ]
  },
  {
   "cell_type": "code",
   "execution_count": 19,
   "metadata": {
    "collapsed": true
   },
   "outputs": [],
   "source": [
    "years = []\n",
    "for row in data:\n",
    "    years.append(row[1])"
   ]
  },
  {
   "cell_type": "code",
   "execution_count": 20,
   "metadata": {
    "collapsed": false
   },
   "outputs": [
    {
     "name": "stdout",
     "output_type": "stream",
     "text": [
      "{'2013': 33636, '2012': 33563, '2014': 33599}\n"
     ]
    }
   ],
   "source": [
    "year_counts = {}\n",
    "for year in years:\n",
    "    if year in year_counts:\n",
    "        year_counts[year] +=1\n",
    "    else:\n",
    "        year_counts[year] = 1\n",
    "print(year_counts)"
   ]
  },
  {
   "cell_type": "code",
   "execution_count": 21,
   "metadata": {
    "collapsed": false
   },
   "outputs": [
    {
     "name": "stdout",
     "output_type": "stream",
     "text": [
      "['1', '2012', '01', 'Suicide', '0', 'M', '34', 'Asian/Pacific Islander', '100', 'Home', '4', datetime.datetime(2012, 1, 1, 0, 0)]\n",
      "['2', '2012', '01', 'Suicide', '0', 'F', '21', 'White', '100', 'Street', '3', datetime.datetime(2012, 1, 1, 0, 0)]\n",
      "['3', '2012', '01', 'Suicide', '0', 'M', '60', 'White', '100', 'Other specified', '4', datetime.datetime(2012, 1, 1, 0, 0)]\n",
      "['4', '2012', '02', 'Suicide', '0', 'M', '64', 'White', '100', 'Home', '4', datetime.datetime(2012, 2, 1, 0, 0)]\n",
      "['5', '2012', '02', 'Suicide', '0', 'M', '31', 'White', '100', 'Other specified', '2', datetime.datetime(2012, 2, 1, 0, 0)]\n"
     ]
    }
   ],
   "source": [
    "import datetime\n",
    "for row in data:\n",
    "    dates = datetime.datetime(year=int(row[1]),month=int(row[2]),day=1)\n",
    "    row.append(dates)\n",
    "for i in range(0,5):\n",
    "    print(data[i])"
   ]
  },
  {
   "cell_type": "code",
   "execution_count": 22,
   "metadata": {
    "collapsed": false
   },
   "outputs": [
    {
     "name": "stdout",
     "output_type": "stream",
     "text": [
      "2013-06-01 00:00:00 2920\n",
      "2012-07-01 00:00:00 3026\n",
      "2012-11-01 00:00:00 2729\n",
      "2014-12-01 00:00:00 2857\n",
      "2014-06-01 00:00:00 2931\n",
      "2014-11-01 00:00:00 2756\n",
      "2014-02-01 00:00:00 2361\n",
      "2013-11-01 00:00:00 2758\n",
      "2012-05-01 00:00:00 2999\n",
      "2013-07-01 00:00:00 3079\n",
      "2013-12-01 00:00:00 2765\n",
      "2012-10-01 00:00:00 2733\n",
      "2014-04-01 00:00:00 2862\n",
      "2013-08-01 00:00:00 2859\n",
      "2013-10-01 00:00:00 2808\n",
      "2012-03-01 00:00:00 2743\n",
      "2013-03-01 00:00:00 2862\n",
      "2014-10-01 00:00:00 2865\n",
      "2014-08-01 00:00:00 2970\n",
      "2014-01-01 00:00:00 2651\n",
      "2014-03-01 00:00:00 2684\n",
      "2014-09-01 00:00:00 2914\n",
      "2012-06-01 00:00:00 2826\n",
      "2012-12-01 00:00:00 2791\n",
      "2013-02-01 00:00:00 2375\n",
      "2012-04-01 00:00:00 2795\n",
      "2012-01-01 00:00:00 2758\n",
      "2013-01-01 00:00:00 2864\n",
      "2014-07-01 00:00:00 2884\n",
      "2014-05-01 00:00:00 2864\n",
      "2013-09-01 00:00:00 2742\n",
      "2012-02-01 00:00:00 2357\n",
      "2012-08-01 00:00:00 2954\n",
      "2012-09-01 00:00:00 2852\n",
      "2013-04-01 00:00:00 2798\n",
      "2013-05-01 00:00:00 2806\n"
     ]
    }
   ],
   "source": [
    "dates = []\n",
    "for row in data:\n",
    "    dates.append(row[11])\n",
    "\n",
    "date_counts = {}\n",
    "for date in dates:\n",
    "    if date in date_counts:\n",
    "        date_counts[date] +=1\n",
    "    else:\n",
    "        date_counts[date] = 1\n",
    "for k,v in date_counts.items():\n",
    "    print(k,v)\n"
   ]
  },
  {
   "cell_type": "code",
   "execution_count": 23,
   "metadata": {
    "collapsed": true
   },
   "outputs": [],
   "source": [
    "def counts(col):\n",
    "    count_list=[]\n",
    "    count_dic = {}\n",
    "    for row in data:\n",
    "        count_list.append(row[col])\n",
    "    for item in count_list:\n",
    "        if item in count_dic:\n",
    "            count_dic[item]+=1\n",
    "        else:\n",
    "            count_dic[item] = 1\n",
    "    return count_dic\n",
    "\n",
    "sex_counts = counts(5)\n",
    "race_counts = counts(7)\n"
   ]
  },
  {
   "cell_type": "code",
   "execution_count": 24,
   "metadata": {
    "collapsed": false
   },
   "outputs": [
    {
     "name": "stdout",
     "output_type": "stream",
     "text": [
      "Sex\n",
      "M 86349\n",
      "F 14449\n",
      "Race\n",
      "Hispanic 9022\n",
      "Asian/Pacific Islander 1326\n",
      "Native American/Native Alaskan 917\n",
      "Black 23296\n",
      "White 66237\n"
     ]
    }
   ],
   "source": [
    "print(\"Sex\")\n",
    "for k,v in sex_counts.items():\n",
    "    print(k,v)\n",
    "print(\"Race\")    \n",
    "for k,v in race_counts.items():\n",
    "    print(k,v)"
   ]
  },
  {
   "cell_type": "markdown",
   "metadata": {},
   "source": [
    "1. Men killed by guns are far more than women.\n",
    "2. White killed by guns are far more than other races."
   ]
  },
  {
   "cell_type": "code",
   "execution_count": 25,
   "metadata": {
    "collapsed": false
   },
   "outputs": [
    {
     "name": "stdout",
     "output_type": "stream",
     "text": [
      "['Id', 'Year', 'Id', 'Sex', 'Id', 'Hispanic Origin', 'Id', 'Id2', 'Geography', 'Total', 'Race Alone - White', 'Race Alone - Hispanic', 'Race Alone - Black or African American', 'Race Alone - American Indian and Alaska Native', 'Race Alone - Asian', 'Race Alone - Native Hawaiian and Other Pacific Islander', 'Two or More Races']\n",
      "['cen42010', 'April 1, 2010 Census', 'totsex', 'Both Sexes', 'tothisp', 'Total', '0100000US', '', 'United States', '308745538', '197318956', '44618105', '40250635', '3739506', '15159516', '674625', '6984195']\n"
     ]
    }
   ],
   "source": [
    "census = list(csv.reader(open(\"census.csv\",\"r\")))\n",
    "for row in census:\n",
    "    print(row)"
   ]
  },
  {
   "cell_type": "code",
   "execution_count": 26,
   "metadata": {
    "collapsed": false
   },
   "outputs": [
    {
     "name": "stdout",
     "output_type": "stream",
     "text": [
      "{'Hispanic': 20.220491210910907, 'Asian/Pacific Islander': 8.374309664161762, 'Native American/Native Alaskan': 24.521955573811088, 'Black': 57.8773477735196, 'White': 33.56849303419181}\n"
     ]
    }
   ],
   "source": [
    "mapping = {'Asian/Pacific Islander':674625+15159516,'Black':40250635,'Hispanic':44618105,\n",
    "  'Native American/Native Alaskan':3739506,'White':197318956}\n",
    "race_per_hundredk= {}\n",
    "for race,count in race_counts.items():\n",
    "    race_per_hundredk[race]=count/mapping[race]*100000\n",
    "print(race_per_hundredk)\n"
   ]
  },
  {
   "cell_type": "code",
   "execution_count": 28,
   "metadata": {
    "collapsed": false
   },
   "outputs": [],
   "source": [
    "intents = [row[3] for row in data]\n",
    "races = [row[7] for row in data]\n",
    "homicide_race_counts = {}\n",
    "for i,race in enumerate(races):\n",
    "    if intents[i]=='Homicide':\n",
    "        if race in homicide_race_counts:\n",
    "            homicide_race_counts[race]+=1\n",
    "        else:\n",
    "            homicide_race_counts[race]=1"
   ]
  },
  {
   "cell_type": "code",
   "execution_count": 29,
   "metadata": {
    "collapsed": false
   },
   "outputs": [
    {
     "name": "stdout",
     "output_type": "stream",
     "text": [
      "{'Hispanic': 12.627161104219914, 'Asian/Pacific Islander': 3.530346230970155, 'Native American/Native Alaskan': 8.717729026240365, 'Black': 48.471284987180944, 'White': 4.6356417981453335}\n"
     ]
    }
   ],
   "source": [
    "homicide_race_per_hundredk = {}\n",
    "for race,count in homicide_race_counts.items():\n",
    "    homicide_race_per_hundredk[race]=count/mapping[race]*100000\n",
    "print(homicide_race_per_hundredk)\n",
    "    "
   ]
  },
  {
   "cell_type": "markdown",
   "metadata": {},
   "source": [
    "The black a"
   ]
  }
 ],
 "metadata": {
  "kernelspec": {
   "display_name": "Python 3",
   "language": "python",
   "name": "python3"
  },
  "language_info": {
   "codemirror_mode": {
    "name": "ipython",
    "version": 3
   },
   "file_extension": ".py",
   "mimetype": "text/x-python",
   "name": "python",
   "nbconvert_exporter": "python",
   "pygments_lexer": "ipython3",
   "version": "3.4.3"
  }
 },
 "nbformat": 4,
 "nbformat_minor": 0
}
